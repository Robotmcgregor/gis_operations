{
 "cells": [
  {
   "cell_type": "markdown",
   "metadata": {},
   "source": [
    "# Mosaic and clip images"
   ]
  },
  {
   "cell_type": "code",
   "execution_count": 10,
   "metadata": {},
   "outputs": [],
   "source": [
    "import rasterio\n",
    "from rasterio.merge import merge\n",
    "from rasterio.plot import show\n",
    "from rasterio.plot import show_hist\n",
    "from rasterio.mask import mask\n",
    "from shapely.geometry import box\n",
    "import geopandas as gpd\n",
    "from fiona.crs import from_epsg\n",
    "#import pycrs\n",
    "import glob\n",
    "import os"
   ]
  },
  {
   "cell_type": "code",
   "execution_count": 11,
   "metadata": {},
   "outputs": [],
   "source": [
    "#find the files\n",
    "dirPath = r\"Z:\\Scratch\\Zonal_Stats_Pipeline\\True_and_False_Colour\\Mosaic\\scratch\"\n",
    "outPath = r\"Z:\\Scratch\\Zonal_Stats_Pipeline\\True_and_False_Colour\\clipped_raster\\Mary_River_West\""
   ]
  },
  {
   "cell_type": "code",
   "execution_count": 12,
   "metadata": {},
   "outputs": [],
   "source": [
    "laiskey = '000     03736'\n",
    "images = [r\"Z:\\Scratch\\Zonal_Stats_Pipeline\\True_and_False_Colour\\clipped_raster\\Mary_River_West\\Mary_River_West_cemsre_t52lhk_20200725_abmm2.img\",\n",
    "          r\"Z:\\Scratch\\Zonal_Stats_Pipeline\\True_and_False_Colour\\clipped_raster\\Mary_River_West\\Mary_River_West_cemsre_t52lgl_20200725_abmm2.img\",\n",
    "          r\"Z:\\Scratch\\Zonal_Stats_Pipeline\\True_and_False_Colour\\clipped_raster\\Mary_River_West\\Mary_River_West_cemsre_t52lgk_20200725_abmm2.img\"]"
   ]
  },
  {
   "cell_type": "markdown",
   "metadata": {},
   "source": [
    "Search for all images in a directory"
   ]
  },
  {
   "cell_type": "code",
   "execution_count": 13,
   "metadata": {},
   "outputs": [
    {
     "data": {
      "text/plain": [
       "'search_criteria = \"*20200630_abam2.img\"\\n\\nq = os.path.join(dirPath, search_criteria)\\n\\nimages = glob.glob(q)'"
      ]
     },
     "execution_count": 13,
     "metadata": {},
     "output_type": "execute_result"
    }
   ],
   "source": [
    "# Make a search criteria to select the DEM files\n",
    "\"\"\"search_criteria = \"*20200630_abam2.img\"\n",
    "\n",
    "q = os.path.join(dirPath, search_criteria)\n",
    "\n",
    "images = glob.glob(q)\"\"\"\n",
    "\n"
   ]
  },
  {
   "cell_type": "code",
   "execution_count": 14,
   "metadata": {},
   "outputs": [
    {
     "name": "stdout",
     "output_type": "stream",
     "text": [
      "['Z:\\\\Scratch\\\\Zonal_Stats_Pipeline\\\\True_and_False_Colour\\\\clipped_raster\\\\Mary_River_West\\\\Mary_River_West_cemsre_t52lhk_20200725_abmm2.img', 'Z:\\\\Scratch\\\\Zonal_Stats_Pipeline\\\\True_and_False_Colour\\\\clipped_raster\\\\Mary_River_West\\\\Mary_River_West_cemsre_t52lgl_20200725_abmm2.img', 'Z:\\\\Scratch\\\\Zonal_Stats_Pipeline\\\\True_and_False_Colour\\\\clipped_raster\\\\Mary_River_West\\\\Mary_River_West_cemsre_t52lgk_20200725_abmm2.img']\n"
     ]
    }
   ],
   "source": [
    "print(images)"
   ]
  },
  {
   "cell_type": "code",
   "execution_count": 15,
   "metadata": {},
   "outputs": [],
   "source": [
    "#create an empty list for the mosaic files to be loaded\n",
    "src_files_to_mosaic =[]\n",
    "\n",
    "for f in images:\n",
    "    src = rasterio.open(f)\n",
    "    src_files_to_mosaic.append(src)"
   ]
  },
  {
   "cell_type": "code",
   "execution_count": 16,
   "metadata": {},
   "outputs": [],
   "source": [
    "mosaic, out_trans = merge(src_files_to_mosaic)\n",
    "#print(out_trans)"
   ]
  },
  {
   "cell_type": "code",
   "execution_count": 17,
   "metadata": {},
   "outputs": [],
   "source": [
    "# Copy the metadata\n",
    "out_meta = src.meta.copy()\n",
    "\n",
    "# Update the metadata NOTE zone 52 or 53\n",
    "out_meta.update({\"driver\": \"GTiff\",\n",
    "                 \"height\": mosaic.shape[1],\n",
    "                 \"width\": mosaic.shape[2],\n",
    "                 \"transform\": out_trans,\n",
    "                 \"crs\": \"+proj=utm +zone=52 +south +ellps=WGS84 +datum=WGS84 +units=m +no_defs\"})"
   ]
  },
  {
   "cell_type": "code",
   "execution_count": 18,
   "metadata": {},
   "outputs": [
    {
     "name": "stdout",
     "output_type": "stream",
     "text": [
      "{'driver': 'GTiff', 'dtype': 'int16', 'nodata': 32767.0, 'width': 3783, 'height': 2902, 'count': 10, 'crs': '+proj=utm +zone=52 +south +ellps=WGS84 +datum=WGS84 +units=m +no_defs', 'transform': Affine(10.0, 0.0, 777110.0,\n",
      "       0.0, -10.0, 8500570.0)}\n"
     ]
    }
   ],
   "source": [
    "print(out_meta)"
   ]
  },
  {
   "cell_type": "code",
   "execution_count": 19,
   "metadata": {},
   "outputs": [],
   "source": [
    "# Write the mosaic raster to disk\n",
    "with rasterio.open(outPath + \"/Mary_River_West_cemsre_t52lhk_52lgk_52lgl_20200725_abmm2.img\", \"w\", **out_meta) as dest:\n",
    "    dest.write(mosaic)"
   ]
  },
  {
   "cell_type": "markdown",
   "metadata": {},
   "source": [
    "# Clip the raster"
   ]
  },
  {
   "cell_type": "code",
   "execution_count": null,
   "metadata": {},
   "outputs": [],
   "source": [
    "data = rasterio.open(outPath + \"/cemsre_t52kgf_t52kgg_20200625_abam2.img\")"
   ]
  },
  {
   "cell_type": "code",
   "execution_count": null,
   "metadata": {},
   "outputs": [],
   "source": [
    "show((data, 2), cmap='terrain')"
   ]
  },
  {
   "cell_type": "code",
   "execution_count": null,
   "metadata": {},
   "outputs": [],
   "source": [
    "import geopandas as gdp"
   ]
  },
  {
   "cell_type": "code",
   "execution_count": null,
   "metadata": {},
   "outputs": [],
   "source": [
    "prop = gpd.read_file(r\"U:\\LIB_Common\\Cadastre\\Datasets\\Av_data\\Cadastre.shp\")"
   ]
  },
  {
   "cell_type": "code",
   "execution_count": null,
   "metadata": {},
   "outputs": [],
   "source": [
    "prop.loc[prop['LAISKEY'] == '000     03736']"
   ]
  },
  {
   "cell_type": "code",
   "execution_count": null,
   "metadata": {},
   "outputs": [],
   "source": [
    "prop.to_file('C:Users/rmcgr/Desktop/properties/Campfield_2.shp')"
   ]
  },
  {
   "cell_type": "code",
   "execution_count": null,
   "metadata": {},
   "outputs": [],
   "source": []
  }
 ],
 "metadata": {
  "kernelspec": {
   "display_name": "Python 3",
   "language": "python",
   "name": "python3"
  },
  "language_info": {
   "codemirror_mode": {
    "name": "ipython",
    "version": 3
   },
   "file_extension": ".py",
   "mimetype": "text/x-python",
   "name": "python",
   "nbconvert_exporter": "python",
   "pygments_lexer": "ipython3",
   "version": "3.7.4"
  }
 },
 "nbformat": 4,
 "nbformat_minor": 2
}
